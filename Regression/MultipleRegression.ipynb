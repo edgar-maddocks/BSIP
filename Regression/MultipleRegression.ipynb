{
 "cells": [
  {
   "cell_type": "code",
   "execution_count": 3,
   "id": "3ae03302-7a17-4c95-bb20-8c76dcbdb5d0",
   "metadata": {},
   "outputs": [],
   "source": [
    "# import libraries\n",
    "import pandas as pd\n",
    "import pandas_ta as ta\n",
    "import numpy as np\n",
    "import yfinance as yf\n",
    "import matplotlib.pyplot as plt\n",
    "from sklearn.model_selection import train_test_split\n",
    "from sklearn.linear_model import LinearRegression\n",
    "from sklearn.metrics import mean_squared_error, mean_absolute_error, r2_score"
   ]
  },
  {
   "cell_type": "code",
   "execution_count": 5,
   "id": "5e87bc1b-c886-43e8-a80d-d81a8a20cb43",
   "metadata": {},
   "outputs": [
    {
     "data": {
      "text/html": [
       "<div>\n",
       "<style scoped>\n",
       "    .dataframe tbody tr th:only-of-type {\n",
       "        vertical-align: middle;\n",
       "    }\n",
       "\n",
       "    .dataframe tbody tr th {\n",
       "        vertical-align: top;\n",
       "    }\n",
       "\n",
       "    .dataframe thead th {\n",
       "        text-align: right;\n",
       "    }\n",
       "</style>\n",
       "<table border=\"1\" class=\"dataframe\">\n",
       "  <thead>\n",
       "    <tr style=\"text-align: right;\">\n",
       "      <th></th>\n",
       "      <th>log_ret</th>\n",
       "      <th>RSILR</th>\n",
       "      <th>EMAFLR</th>\n",
       "      <th>EMAMLR</th>\n",
       "      <th>EMASLR</th>\n",
       "      <th>log_ret_next</th>\n",
       "    </tr>\n",
       "  </thead>\n",
       "  <tbody>\n",
       "    <tr>\n",
       "      <th>0</th>\n",
       "      <td>0.011063</td>\n",
       "      <td>50.708450</td>\n",
       "      <td>0.006683</td>\n",
       "      <td>0.003163</td>\n",
       "      <td>0.001564</td>\n",
       "      <td>0.026540</td>\n",
       "    </tr>\n",
       "    <tr>\n",
       "      <th>1</th>\n",
       "      <td>0.026540</td>\n",
       "      <td>52.857439</td>\n",
       "      <td>0.008211</td>\n",
       "      <td>0.003626</td>\n",
       "      <td>0.001894</td>\n",
       "      <td>-0.009570</td>\n",
       "    </tr>\n",
       "    <tr>\n",
       "      <th>2</th>\n",
       "      <td>-0.009570</td>\n",
       "      <td>47.662737</td>\n",
       "      <td>0.006843</td>\n",
       "      <td>0.003365</td>\n",
       "      <td>0.001743</td>\n",
       "      <td>0.007185</td>\n",
       "    </tr>\n",
       "    <tr>\n",
       "      <th>3</th>\n",
       "      <td>0.007185</td>\n",
       "      <td>50.100767</td>\n",
       "      <td>0.006869</td>\n",
       "      <td>0.003441</td>\n",
       "      <td>0.001815</td>\n",
       "      <td>0.025914</td>\n",
       "    </tr>\n",
       "    <tr>\n",
       "      <th>4</th>\n",
       "      <td>0.025914</td>\n",
       "      <td>52.737545</td>\n",
       "      <td>0.008334</td>\n",
       "      <td>0.003886</td>\n",
       "      <td>0.002134</td>\n",
       "      <td>-0.014052</td>\n",
       "    </tr>\n",
       "    <tr>\n",
       "      <th>...</th>\n",
       "      <td>...</td>\n",
       "      <td>...</td>\n",
       "      <td>...</td>\n",
       "      <td>...</td>\n",
       "      <td>...</td>\n",
       "      <td>...</td>\n",
       "    </tr>\n",
       "    <tr>\n",
       "      <th>7400</th>\n",
       "      <td>-0.010412</td>\n",
       "      <td>47.653414</td>\n",
       "      <td>0.000752</td>\n",
       "      <td>0.000469</td>\n",
       "      <td>0.000668</td>\n",
       "      <td>0.014871</td>\n",
       "    </tr>\n",
       "    <tr>\n",
       "      <th>7401</th>\n",
       "      <td>0.014871</td>\n",
       "      <td>52.737002</td>\n",
       "      <td>0.001838</td>\n",
       "      <td>0.000754</td>\n",
       "      <td>0.000856</td>\n",
       "      <td>-0.001745</td>\n",
       "    </tr>\n",
       "    <tr>\n",
       "      <th>7402</th>\n",
       "      <td>-0.001745</td>\n",
       "      <td>49.361470</td>\n",
       "      <td>0.001563</td>\n",
       "      <td>0.000704</td>\n",
       "      <td>0.000822</td>\n",
       "      <td>-0.005890</td>\n",
       "    </tr>\n",
       "    <tr>\n",
       "      <th>7403</th>\n",
       "      <td>-0.005890</td>\n",
       "      <td>48.531299</td>\n",
       "      <td>0.000989</td>\n",
       "      <td>0.000574</td>\n",
       "      <td>0.000733</td>\n",
       "      <td>0.003659</td>\n",
       "    </tr>\n",
       "    <tr>\n",
       "      <th>7404</th>\n",
       "      <td>0.003659</td>\n",
       "      <td>50.582835</td>\n",
       "      <td>0.001195</td>\n",
       "      <td>0.000635</td>\n",
       "      <td>0.000772</td>\n",
       "      <td>-0.007513</td>\n",
       "    </tr>\n",
       "  </tbody>\n",
       "</table>\n",
       "<p>7405 rows × 6 columns</p>\n",
       "</div>"
      ],
      "text/plain": [
       "       log_ret      RSILR    EMAFLR    EMAMLR    EMASLR  log_ret_next\n",
       "0     0.011063  50.708450  0.006683  0.003163  0.001564      0.026540\n",
       "1     0.026540  52.857439  0.008211  0.003626  0.001894     -0.009570\n",
       "2    -0.009570  47.662737  0.006843  0.003365  0.001743      0.007185\n",
       "3     0.007185  50.100767  0.006869  0.003441  0.001815      0.025914\n",
       "4     0.025914  52.737545  0.008334  0.003886  0.002134     -0.014052\n",
       "...        ...        ...       ...       ...       ...           ...\n",
       "7400 -0.010412  47.653414  0.000752  0.000469  0.000668      0.014871\n",
       "7401  0.014871  52.737002  0.001838  0.000754  0.000856     -0.001745\n",
       "7402 -0.001745  49.361470  0.001563  0.000704  0.000822     -0.005890\n",
       "7403 -0.005890  48.531299  0.000989  0.000574  0.000733      0.003659\n",
       "7404  0.003659  50.582835  0.001195  0.000635  0.000772     -0.007513\n",
       "\n",
       "[7405 rows x 6 columns]"
      ]
     },
     "execution_count": 5,
     "metadata": {},
     "output_type": "execute_result"
    }
   ],
   "source": [
    "msft = yf.Ticker(\"MSFT\")\n",
    "data = msft.history(period=\"30Y\")\n",
    "data[\"log_ret\"] = np.log(data.Close) - np.log(data.Close.shift(1))\n",
    "data[\"RSILR\"] =ta.rsi(data.log_ret, length=15)\n",
    "data[\"EMAFLR\"]=ta.ema(data.log_ret, length=25)\n",
    "data[\"EMAMLR\"]=ta.ema(data.log_ret, length=100)\n",
    "data[\"EMASLR\"]=ta.ema(data.log_ret, length=150)\n",
    "data[\"log_ret_next\"] = data[\"log_ret\"].shift(-1)\n",
    "data.dropna(inplace=True)\n",
    "data.reset_index(inplace=True)\n",
    "dates = data[\"Date\"]\n",
    "data.drop([\"Volume\", \"Close\", \"Date\", \"Open\", \"High\", \"Low\", \"Dividends\", \"Stock Splits\"], axis=1, inplace=True)\n",
    "data"
   ]
  },
  {
   "cell_type": "code",
   "execution_count": 6,
   "id": "4ffe4d04-d2d7-49fd-9a6d-f1eb708ec882",
   "metadata": {
    "scrolled": true
   },
   "outputs": [],
   "source": [
    "predictors = [\"log_ret\", \"RSILR\", \"EMAFLR\", \"EMAMLR\", \"EMASLR\"]\n",
    "train = data.iloc[:-100]\n",
    "test = data.iloc[-100:]"
   ]
  },
  {
   "cell_type": "code",
   "execution_count": 7,
   "id": "9414ed52-fe7a-4818-8e29-a497b0e5f149",
   "metadata": {},
   "outputs": [],
   "source": [
    "#create model\n",
    "model = LinearRegression()"
   ]
  },
  {
   "cell_type": "code",
   "execution_count": 8,
   "id": "5b7f863f-603d-4cd2-b9bb-5a43de323c8c",
   "metadata": {},
   "outputs": [
    {
     "data": {
      "text/html": [
       "<style>#sk-container-id-1 {color: black;}#sk-container-id-1 pre{padding: 0;}#sk-container-id-1 div.sk-toggleable {background-color: white;}#sk-container-id-1 label.sk-toggleable__label {cursor: pointer;display: block;width: 100%;margin-bottom: 0;padding: 0.3em;box-sizing: border-box;text-align: center;}#sk-container-id-1 label.sk-toggleable__label-arrow:before {content: \"▸\";float: left;margin-right: 0.25em;color: #696969;}#sk-container-id-1 label.sk-toggleable__label-arrow:hover:before {color: black;}#sk-container-id-1 div.sk-estimator:hover label.sk-toggleable__label-arrow:before {color: black;}#sk-container-id-1 div.sk-toggleable__content {max-height: 0;max-width: 0;overflow: hidden;text-align: left;background-color: #f0f8ff;}#sk-container-id-1 div.sk-toggleable__content pre {margin: 0.2em;color: black;border-radius: 0.25em;background-color: #f0f8ff;}#sk-container-id-1 input.sk-toggleable__control:checked~div.sk-toggleable__content {max-height: 200px;max-width: 100%;overflow: auto;}#sk-container-id-1 input.sk-toggleable__control:checked~label.sk-toggleable__label-arrow:before {content: \"▾\";}#sk-container-id-1 div.sk-estimator input.sk-toggleable__control:checked~label.sk-toggleable__label {background-color: #d4ebff;}#sk-container-id-1 div.sk-label input.sk-toggleable__control:checked~label.sk-toggleable__label {background-color: #d4ebff;}#sk-container-id-1 input.sk-hidden--visually {border: 0;clip: rect(1px 1px 1px 1px);clip: rect(1px, 1px, 1px, 1px);height: 1px;margin: -1px;overflow: hidden;padding: 0;position: absolute;width: 1px;}#sk-container-id-1 div.sk-estimator {font-family: monospace;background-color: #f0f8ff;border: 1px dotted black;border-radius: 0.25em;box-sizing: border-box;margin-bottom: 0.5em;}#sk-container-id-1 div.sk-estimator:hover {background-color: #d4ebff;}#sk-container-id-1 div.sk-parallel-item::after {content: \"\";width: 100%;border-bottom: 1px solid gray;flex-grow: 1;}#sk-container-id-1 div.sk-label:hover label.sk-toggleable__label {background-color: #d4ebff;}#sk-container-id-1 div.sk-serial::before {content: \"\";position: absolute;border-left: 1px solid gray;box-sizing: border-box;top: 0;bottom: 0;left: 50%;z-index: 0;}#sk-container-id-1 div.sk-serial {display: flex;flex-direction: column;align-items: center;background-color: white;padding-right: 0.2em;padding-left: 0.2em;position: relative;}#sk-container-id-1 div.sk-item {position: relative;z-index: 1;}#sk-container-id-1 div.sk-parallel {display: flex;align-items: stretch;justify-content: center;background-color: white;position: relative;}#sk-container-id-1 div.sk-item::before, #sk-container-id-1 div.sk-parallel-item::before {content: \"\";position: absolute;border-left: 1px solid gray;box-sizing: border-box;top: 0;bottom: 0;left: 50%;z-index: -1;}#sk-container-id-1 div.sk-parallel-item {display: flex;flex-direction: column;z-index: 1;position: relative;background-color: white;}#sk-container-id-1 div.sk-parallel-item:first-child::after {align-self: flex-end;width: 50%;}#sk-container-id-1 div.sk-parallel-item:last-child::after {align-self: flex-start;width: 50%;}#sk-container-id-1 div.sk-parallel-item:only-child::after {width: 0;}#sk-container-id-1 div.sk-dashed-wrapped {border: 1px dashed gray;margin: 0 0.4em 0.5em 0.4em;box-sizing: border-box;padding-bottom: 0.4em;background-color: white;}#sk-container-id-1 div.sk-label label {font-family: monospace;font-weight: bold;display: inline-block;line-height: 1.2em;}#sk-container-id-1 div.sk-label-container {text-align: center;}#sk-container-id-1 div.sk-container {/* jupyter's `normalize.less` sets `[hidden] { display: none; }` but bootstrap.min.css set `[hidden] { display: none !important; }` so we also need the `!important` here to be able to override the default hidden behavior on the sphinx rendered scikit-learn.org. See: https://github.com/scikit-learn/scikit-learn/issues/21755 */display: inline-block !important;position: relative;}#sk-container-id-1 div.sk-text-repr-fallback {display: none;}</style><div id=\"sk-container-id-1\" class=\"sk-top-container\"><div class=\"sk-text-repr-fallback\"><pre>LinearRegression()</pre><b>In a Jupyter environment, please rerun this cell to show the HTML representation or trust the notebook. <br />On GitHub, the HTML representation is unable to render, please try loading this page with nbviewer.org.</b></div><div class=\"sk-container\" hidden><div class=\"sk-item\"><div class=\"sk-estimator sk-toggleable\"><input class=\"sk-toggleable__control sk-hidden--visually\" id=\"sk-estimator-id-1\" type=\"checkbox\" checked><label for=\"sk-estimator-id-1\" class=\"sk-toggleable__label sk-toggleable__label-arrow\">LinearRegression</label><div class=\"sk-toggleable__content\"><pre>LinearRegression()</pre></div></div></div></div></div>"
      ],
      "text/plain": [
       "LinearRegression()"
      ]
     },
     "execution_count": 8,
     "metadata": {},
     "output_type": "execute_result"
    }
   ],
   "source": [
    "# fit the model\n",
    "model.fit(train[predictors],train[\"log_ret_next\"])"
   ]
  },
  {
   "cell_type": "code",
   "execution_count": 9,
   "id": "f23f83b9-8ec8-46c3-a7f2-e6a99ae06dd1",
   "metadata": {},
   "outputs": [],
   "source": [
    "# make predictions\n",
    "predictions = model.predict(test[predictors])"
   ]
  },
  {
   "cell_type": "code",
   "execution_count": 11,
   "id": "4a0b33b1-93ad-447f-8662-d70a0da8c78c",
   "metadata": {},
   "outputs": [
    {
     "name": "stdout",
     "output_type": "stream",
     "text": [
      "0.0001916802687088327\n",
      "0.00033856978550583783\n"
     ]
    }
   ],
   "source": [
    "MSE = mean_squared_error(test[\"log_ret_next\"], predictions)\n",
    "print(MSE)\n",
    "r2score = r2_score(test[\"log_ret_next\"], predictions)\n",
    "print(r2score)"
   ]
  },
  {
   "cell_type": "code",
   "execution_count": 12,
   "id": "cf86e115-28dc-4ec1-97de-cb8d8d8b6f58",
   "metadata": {},
   "outputs": [
    {
     "data": {
      "text/plain": [
       "[<matplotlib.lines.Line2D at 0x13da646ea90>]"
      ]
     },
     "execution_count": 12,
     "metadata": {},
     "output_type": "execute_result"
    },
    {
     "data": {
      "image/png": "[encoded data removed]",
      "text/plain": [
       "<Figure size 640x480 with 1 Axes>"
      ]
     },
     "metadata": {},
     "output_type": "display_data"
    }
   ],
   "source": [
    "plt.style.use('default')\n",
    "plt.style.use('ggplot')\n",
    "plt.plot(test.index, test[\"log_ret_next\"], color = \"b\")\n",
    "plt.plot(test.index, predictions, color = \"r\")"
   ]
  },
  {
   "cell_type": "code",
   "execution_count": null,
   "id": "d567af9d-26f4-41cc-9ca5-98b9bd9fdd97",
   "metadata": {},
   "outputs": [],
   "source": []
  },
  {
   "cell_type": "code",
   "execution_count": null,
   "id": "2aba1f09-4510-4291-83be-97e3c6fe80bd",
   "metadata": {},
   "outputs": [],
   "source": []
  },
  {
   "cell_type": "code",
   "execution_count": null,
   "id": "8e769d01-0b1a-4c59-a176-435f75fc8514",
   "metadata": {},
   "outputs": [],
   "source": []
  },
  {
   "cell_type": "code",
   "execution_count": null,
   "id": "c9712fc1-47fb-487b-b76d-e1e67a1bb2c4",
   "metadata": {},
   "outputs": [],
   "source": []
  },
  {
   "cell_type": "code",
   "execution_count": null,
   "id": "d8769084-7e57-46cc-b91a-af6d4c12ae23",
   "metadata": {},
   "outputs": [],
   "source": []
  },
  {
   "cell_type": "code",
   "execution_count": null,
   "id": "4726dd19-e8f7-4945-9caa-5e856c1e5773",
   "metadata": {},
   "outputs": [],
   "source": []
  },
  {
   "cell_type": "code",
   "execution_count": null,
   "id": "e45652d3-51cf-4ad1-87b6-fc7f1760fffe",
   "metadata": {},
   "outputs": [],
   "source": []
  },
  {
   "cell_type": "code",
   "execution_count": null,
   "id": "6cf0869e-6fb5-4564-aa22-9e4c4a8be9e2",
   "metadata": {},
   "outputs": [],
   "source": []
  },
  {
   "cell_type": "code",
   "execution_count": null,
   "id": "4ac221b4-5ff8-475c-8e29-e26517705d7e",
   "metadata": {},
   "outputs": [],
   "source": []
  },
  {
   "cell_type": "code",
   "execution_count": null,
   "id": "9771419b-9519-4738-8571-4697f3db6a71",
   "metadata": {},
   "outputs": [],
   "source": []
  },
  {
   "cell_type": "code",
   "execution_count": null,
   "id": "1806c99e-f901-42b3-9341-f609687a2bd5",
   "metadata": {},
   "outputs": [],
   "source": []
  },
  {
   "cell_type": "code",
   "execution_count": null,
   "id": "de169d8d-9531-44da-b224-f52c7f73ec7e",
   "metadata": {},
   "outputs": [],
   "source": []
  },
  {
   "cell_type": "code",
   "execution_count": null,
   "id": "f67316ca-1cda-494e-91db-45a12da34cb3",
   "metadata": {},
   "outputs": [],
   "source": []
  },
  {
   "cell_type": "code",
   "execution_count": null,
   "id": "3b1bf056-fb36-4a26-8eff-a2e01f4c6a87",
   "metadata": {},
   "outputs": [],
   "source": []
  }
 ],
 "metadata": {
  "kernelspec": {
   "display_name": "Python 3",
   "language": "python",
   "name": "python3"
  },
  "language_info": {
   "codemirror_mode": {
    "name": "ipython",
    "version": 3
   },
   "file_extension": ".py",
   "mimetype": "text/x-python",
   "name": "python",
   "nbconvert_exporter": "python",
   "pygments_lexer": "ipython3",
   "version": "3.11.5"
  }
 },
 "nbformat": 4,
 "nbformat_minor": 5
}
