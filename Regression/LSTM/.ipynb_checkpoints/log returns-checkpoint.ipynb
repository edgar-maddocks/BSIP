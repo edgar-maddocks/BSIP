{
 "cells": [
  {
   "cell_type": "code",
   "execution_count": 14,
   "id": "a2953d9c-5705-4e18-92cc-1699729d31a5",
   "metadata": {},
   "outputs": [
    {
     "data": {
      "text/html": [
       "<div>\n",
       "<style scoped>\n",
       "    .dataframe tbody tr th:only-of-type {\n",
       "        vertical-align: middle;\n",
       "    }\n",
       "\n",
       "    .dataframe tbody tr th {\n",
       "        vertical-align: top;\n",
       "    }\n",
       "\n",
       "    .dataframe thead th {\n",
       "        text-align: right;\n",
       "    }\n",
       "</style>\n",
       "<table border=\"1\" class=\"dataframe\">\n",
       "  <thead>\n",
       "    <tr style=\"text-align: right;\">\n",
       "      <th></th>\n",
       "      <th>Date</th>\n",
       "      <th>Open</th>\n",
       "      <th>High</th>\n",
       "      <th>Low</th>\n",
       "      <th>Close</th>\n",
       "      <th>Adj Close</th>\n",
       "      <th>Volume</th>\n",
       "      <th>log_ret</th>\n",
       "    </tr>\n",
       "  </thead>\n",
       "  <tbody>\n",
       "    <tr>\n",
       "      <th>1</th>\n",
       "      <td>1986-03-14</td>\n",
       "      <td>0.097222</td>\n",
       "      <td>0.102431</td>\n",
       "      <td>0.097222</td>\n",
       "      <td>0.100694</td>\n",
       "      <td>0.062553</td>\n",
       "      <td>308160000</td>\n",
       "      <td>0.035089</td>\n",
       "    </tr>\n",
       "    <tr>\n",
       "      <th>2</th>\n",
       "      <td>1986-03-17</td>\n",
       "      <td>0.100694</td>\n",
       "      <td>0.103299</td>\n",
       "      <td>0.100694</td>\n",
       "      <td>0.102431</td>\n",
       "      <td>0.063632</td>\n",
       "      <td>133171200</td>\n",
       "      <td>0.017103</td>\n",
       "    </tr>\n",
       "    <tr>\n",
       "      <th>3</th>\n",
       "      <td>1986-03-18</td>\n",
       "      <td>0.102431</td>\n",
       "      <td>0.103299</td>\n",
       "      <td>0.098958</td>\n",
       "      <td>0.099826</td>\n",
       "      <td>0.062014</td>\n",
       "      <td>67766400</td>\n",
       "      <td>-0.025761</td>\n",
       "    </tr>\n",
       "    <tr>\n",
       "      <th>4</th>\n",
       "      <td>1986-03-19</td>\n",
       "      <td>0.099826</td>\n",
       "      <td>0.100694</td>\n",
       "      <td>0.097222</td>\n",
       "      <td>0.098090</td>\n",
       "      <td>0.060936</td>\n",
       "      <td>47894400</td>\n",
       "      <td>-0.017543</td>\n",
       "    </tr>\n",
       "    <tr>\n",
       "      <th>5</th>\n",
       "      <td>1986-03-20</td>\n",
       "      <td>0.098090</td>\n",
       "      <td>0.098090</td>\n",
       "      <td>0.094618</td>\n",
       "      <td>0.095486</td>\n",
       "      <td>0.059318</td>\n",
       "      <td>58435200</td>\n",
       "      <td>-0.026906</td>\n",
       "    </tr>\n",
       "    <tr>\n",
       "      <th>...</th>\n",
       "      <td>...</td>\n",
       "      <td>...</td>\n",
       "      <td>...</td>\n",
       "      <td>...</td>\n",
       "      <td>...</td>\n",
       "      <td>...</td>\n",
       "      <td>...</td>\n",
       "      <td>...</td>\n",
       "    </tr>\n",
       "    <tr>\n",
       "      <th>9466</th>\n",
       "      <td>2023-10-04</td>\n",
       "      <td>314.029999</td>\n",
       "      <td>320.040009</td>\n",
       "      <td>314.000000</td>\n",
       "      <td>318.959991</td>\n",
       "      <td>318.959991</td>\n",
       "      <td>20720100</td>\n",
       "      <td>0.017617</td>\n",
       "    </tr>\n",
       "    <tr>\n",
       "      <th>9467</th>\n",
       "      <td>2023-10-05</td>\n",
       "      <td>319.089996</td>\n",
       "      <td>319.980011</td>\n",
       "      <td>314.899994</td>\n",
       "      <td>319.359985</td>\n",
       "      <td>319.359985</td>\n",
       "      <td>16965600</td>\n",
       "      <td>0.001253</td>\n",
       "    </tr>\n",
       "    <tr>\n",
       "      <th>9468</th>\n",
       "      <td>2023-10-06</td>\n",
       "      <td>316.549988</td>\n",
       "      <td>329.190002</td>\n",
       "      <td>316.299988</td>\n",
       "      <td>327.260010</td>\n",
       "      <td>327.260010</td>\n",
       "      <td>25645500</td>\n",
       "      <td>0.024436</td>\n",
       "    </tr>\n",
       "    <tr>\n",
       "      <th>9469</th>\n",
       "      <td>2023-10-09</td>\n",
       "      <td>324.750000</td>\n",
       "      <td>330.299988</td>\n",
       "      <td>323.179993</td>\n",
       "      <td>329.820007</td>\n",
       "      <td>329.820007</td>\n",
       "      <td>19891200</td>\n",
       "      <td>0.007792</td>\n",
       "    </tr>\n",
       "    <tr>\n",
       "      <th>9470</th>\n",
       "      <td>2023-10-10</td>\n",
       "      <td>330.959991</td>\n",
       "      <td>331.100006</td>\n",
       "      <td>327.670013</td>\n",
       "      <td>328.390015</td>\n",
       "      <td>328.390015</td>\n",
       "      <td>20536900</td>\n",
       "      <td>-0.004345</td>\n",
       "    </tr>\n",
       "  </tbody>\n",
       "</table>\n",
       "<p>9470 rows × 8 columns</p>\n",
       "</div>"
      ],
      "text/plain": [
       "            Date        Open        High         Low       Close   Adj Close  \\\n",
       "1     1986-03-14    0.097222    0.102431    0.097222    0.100694    0.062553   \n",
       "2     1986-03-17    0.100694    0.103299    0.100694    0.102431    0.063632   \n",
       "3     1986-03-18    0.102431    0.103299    0.098958    0.099826    0.062014   \n",
       "4     1986-03-19    0.099826    0.100694    0.097222    0.098090    0.060936   \n",
       "5     1986-03-20    0.098090    0.098090    0.094618    0.095486    0.059318   \n",
       "...          ...         ...         ...         ...         ...         ...   \n",
       "9466  2023-10-04  314.029999  320.040009  314.000000  318.959991  318.959991   \n",
       "9467  2023-10-05  319.089996  319.980011  314.899994  319.359985  319.359985   \n",
       "9468  2023-10-06  316.549988  329.190002  316.299988  327.260010  327.260010   \n",
       "9469  2023-10-09  324.750000  330.299988  323.179993  329.820007  329.820007   \n",
       "9470  2023-10-10  330.959991  331.100006  327.670013  328.390015  328.390015   \n",
       "\n",
       "         Volume   log_ret  \n",
       "1     308160000  0.035089  \n",
       "2     133171200  0.017103  \n",
       "3      67766400 -0.025761  \n",
       "4      47894400 -0.017543  \n",
       "5      58435200 -0.026906  \n",
       "...         ...       ...  \n",
       "9466   20720100  0.017617  \n",
       "9467   16965600  0.001253  \n",
       "9468   25645500  0.024436  \n",
       "9469   19891200  0.007792  \n",
       "9470   20536900 -0.004345  \n",
       "\n",
       "[9470 rows x 8 columns]"
      ]
     },
     "execution_count": 14,
     "metadata": {},
     "output_type": "execute_result"
    }
   ],
   "source": [
    "import pandas as pd\n",
    "import numpy as np\n",
    "import matplotlib.pyplot as plt\n",
    "df = pd.read_csv(\"MSFT.csv\")\n",
    "df['log_ret'] = np.log(df.Close) - np.log(df.Close.shift(1))\n",
    "df.dropna(inplace=True)\n",
    "df"
   ]
  },
  {
   "cell_type": "code",
   "execution_count": 15,
   "id": "939e404f-ff4d-40f6-a1a9-f97bf8276080",
   "metadata": {},
   "outputs": [
    {
     "data": {
      "text/plain": [
       "[<matplotlib.lines.Line2D at 0x1956af27990>]"
      ]
     },
     "execution_count": 15,
     "metadata": {},
     "output_type": "execute_result"
    },
    {
     "data": {
      "image/png": "[encoded data removed]",
      "text/plain": [
       "<Figure size 640x480 with 1 Axes>"
      ]
     },
     "metadata": {},
     "output_type": "display_data"
    }
   ],
   "source": [
    "plt.plot(df[\"log_ret\"])"
   ]
  },
  {
   "cell_type": "code",
   "execution_count": 16,
   "id": "a41b1e58-2a12-465c-be10-65b55fd6b92d",
   "metadata": {},
   "outputs": [],
   "source": [
    "from sklearn.model_selection import train_test_split\n",
    "df = df[\"log_ret\"]\n",
    "df = df.to_numpy()\n",
    "first50, second50 = train_test_split(df, test_size = 0.5, random_state=42)"
   ]
  },
  {
   "cell_type": "code",
   "execution_count": 23,
   "id": "e07ed522-837a-4bac-b13e-756f512b7155",
   "metadata": {},
   "outputs": [],
   "source": [
    "first50df = pd.DataFrame(first50, columns=[\"log_ret\"])\n",
    "second50df = pd.DataFrame(second50, columns = [\"log_ret\"])"
   ]
  },
  {
   "cell_type": "code",
   "execution_count": 27,
   "id": "513c56e2-143c-4a15-bc32-993a086de974",
   "metadata": {},
   "outputs": [
    {
     "data": {
      "text/plain": [
       "log_ret    0.000483\n",
       "dtype: float64"
      ]
     },
     "execution_count": 27,
     "metadata": {},
     "output_type": "execute_result"
    }
   ],
   "source": [
    "first50df.var()"
   ]
  },
  {
   "cell_type": "code",
   "execution_count": 28,
   "id": "326aa7a7-6b5f-40a9-bd0c-e2ed0eb013a9",
   "metadata": {},
   "outputs": [
    {
     "data": {
      "text/plain": [
       "log_ret    0.000427\n",
       "dtype: float64"
      ]
     },
     "execution_count": 28,
     "metadata": {},
     "output_type": "execute_result"
    }
   ],
   "source": [
    "second50df.var() # similar variance shows stationarity"
   ]
  },
  {
   "cell_type": "code",
   "execution_count": null,
   "id": "d9f38cc3-6330-4d83-8c22-2f00d5e4de66",
   "metadata": {},
   "outputs": [],
   "source": []
  }
 ],
 "metadata": {
  "kernelspec": {
   "display_name": "Python 3",
   "language": "python",
   "name": "python3"
  },
  "language_info": {
   "codemirror_mode": {
    "name": "ipython",
    "version": 3
   },
   "file_extension": ".py",
   "mimetype": "text/x-python",
   "name": "python",
   "nbconvert_exporter": "python",
   "pygments_lexer": "ipython3",
   "version": "3.11.5"
  }
 },
 "nbformat": 4,
 "nbformat_minor": 5
}
