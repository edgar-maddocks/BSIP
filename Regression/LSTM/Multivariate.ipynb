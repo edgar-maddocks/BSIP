{
 "cells": [
  {
   "cell_type": "code",
   "execution_count": 1,
   "id": "9cf2f06d-aeaf-4114-b884-b293e59b6e7a",
   "metadata": {},
   "outputs": [],
   "source": [
    "import numpy as np\n",
    "import matplotlib.pyplot as plt\n",
    "import pandas as pd\n",
    "import yfinance as yf\n",
    "import pandas_ta as ta"
   ]
  },
  {
   "cell_type": "code",
   "execution_count": 2,
   "id": "524dd2be-2b1f-4b25-98f5-e14fcc56d72e",
   "metadata": {},
   "outputs": [
    {
     "data": {
      "text/html": [
       "<div>\n",
       "<style scoped>\n",
       "    .dataframe tbody tr th:only-of-type {\n",
       "        vertical-align: middle;\n",
       "    }\n",
       "\n",
       "    .dataframe tbody tr th {\n",
       "        vertical-align: top;\n",
       "    }\n",
       "\n",
       "    .dataframe thead th {\n",
       "        text-align: right;\n",
       "    }\n",
       "</style>\n",
       "<table border=\"1\" class=\"dataframe\">\n",
       "  <thead>\n",
       "    <tr style=\"text-align: right;\">\n",
       "      <th></th>\n",
       "      <th>Date</th>\n",
       "      <th>Open</th>\n",
       "      <th>High</th>\n",
       "      <th>Low</th>\n",
       "      <th>Close</th>\n",
       "      <th>Adj Close</th>\n",
       "      <th>Volume</th>\n",
       "    </tr>\n",
       "  </thead>\n",
       "  <tbody>\n",
       "    <tr>\n",
       "      <th>0</th>\n",
       "      <td>1986-03-13</td>\n",
       "      <td>0.088542</td>\n",
       "      <td>0.101563</td>\n",
       "      <td>0.088542</td>\n",
       "      <td>0.097222</td>\n",
       "      <td>0.060396</td>\n",
       "      <td>1031788800</td>\n",
       "    </tr>\n",
       "    <tr>\n",
       "      <th>1</th>\n",
       "      <td>1986-03-14</td>\n",
       "      <td>0.097222</td>\n",
       "      <td>0.102431</td>\n",
       "      <td>0.097222</td>\n",
       "      <td>0.100694</td>\n",
       "      <td>0.062553</td>\n",
       "      <td>308160000</td>\n",
       "    </tr>\n",
       "    <tr>\n",
       "      <th>2</th>\n",
       "      <td>1986-03-17</td>\n",
       "      <td>0.100694</td>\n",
       "      <td>0.103299</td>\n",
       "      <td>0.100694</td>\n",
       "      <td>0.102431</td>\n",
       "      <td>0.063632</td>\n",
       "      <td>133171200</td>\n",
       "    </tr>\n",
       "    <tr>\n",
       "      <th>3</th>\n",
       "      <td>1986-03-18</td>\n",
       "      <td>0.102431</td>\n",
       "      <td>0.103299</td>\n",
       "      <td>0.098958</td>\n",
       "      <td>0.099826</td>\n",
       "      <td>0.062014</td>\n",
       "      <td>67766400</td>\n",
       "    </tr>\n",
       "    <tr>\n",
       "      <th>4</th>\n",
       "      <td>1986-03-19</td>\n",
       "      <td>0.099826</td>\n",
       "      <td>0.100694</td>\n",
       "      <td>0.097222</td>\n",
       "      <td>0.098090</td>\n",
       "      <td>0.060936</td>\n",
       "      <td>47894400</td>\n",
       "    </tr>\n",
       "    <tr>\n",
       "      <th>...</th>\n",
       "      <td>...</td>\n",
       "      <td>...</td>\n",
       "      <td>...</td>\n",
       "      <td>...</td>\n",
       "      <td>...</td>\n",
       "      <td>...</td>\n",
       "      <td>...</td>\n",
       "    </tr>\n",
       "    <tr>\n",
       "      <th>9466</th>\n",
       "      <td>2023-10-04</td>\n",
       "      <td>314.029999</td>\n",
       "      <td>320.040009</td>\n",
       "      <td>314.000000</td>\n",
       "      <td>318.959991</td>\n",
       "      <td>318.959991</td>\n",
       "      <td>20720100</td>\n",
       "    </tr>\n",
       "    <tr>\n",
       "      <th>9467</th>\n",
       "      <td>2023-10-05</td>\n",
       "      <td>319.089996</td>\n",
       "      <td>319.980011</td>\n",
       "      <td>314.899994</td>\n",
       "      <td>319.359985</td>\n",
       "      <td>319.359985</td>\n",
       "      <td>16965600</td>\n",
       "    </tr>\n",
       "    <tr>\n",
       "      <th>9468</th>\n",
       "      <td>2023-10-06</td>\n",
       "      <td>316.549988</td>\n",
       "      <td>329.190002</td>\n",
       "      <td>316.299988</td>\n",
       "      <td>327.260010</td>\n",
       "      <td>327.260010</td>\n",
       "      <td>25645500</td>\n",
       "    </tr>\n",
       "    <tr>\n",
       "      <th>9469</th>\n",
       "      <td>2023-10-09</td>\n",
       "      <td>324.750000</td>\n",
       "      <td>330.299988</td>\n",
       "      <td>323.179993</td>\n",
       "      <td>329.820007</td>\n",
       "      <td>329.820007</td>\n",
       "      <td>19891200</td>\n",
       "    </tr>\n",
       "    <tr>\n",
       "      <th>9470</th>\n",
       "      <td>2023-10-10</td>\n",
       "      <td>330.959991</td>\n",
       "      <td>331.100006</td>\n",
       "      <td>327.670013</td>\n",
       "      <td>328.390015</td>\n",
       "      <td>328.390015</td>\n",
       "      <td>20536900</td>\n",
       "    </tr>\n",
       "  </tbody>\n",
       "</table>\n",
       "<p>9471 rows × 7 columns</p>\n",
       "</div>"
      ],
      "text/plain": [
       "            Date        Open        High         Low       Close   Adj Close  \\\n",
       "0     1986-03-13    0.088542    0.101563    0.088542    0.097222    0.060396   \n",
       "1     1986-03-14    0.097222    0.102431    0.097222    0.100694    0.062553   \n",
       "2     1986-03-17    0.100694    0.103299    0.100694    0.102431    0.063632   \n",
       "3     1986-03-18    0.102431    0.103299    0.098958    0.099826    0.062014   \n",
       "4     1986-03-19    0.099826    0.100694    0.097222    0.098090    0.060936   \n",
       "...          ...         ...         ...         ...         ...         ...   \n",
       "9466  2023-10-04  314.029999  320.040009  314.000000  318.959991  318.959991   \n",
       "9467  2023-10-05  319.089996  319.980011  314.899994  319.359985  319.359985   \n",
       "9468  2023-10-06  316.549988  329.190002  316.299988  327.260010  327.260010   \n",
       "9469  2023-10-09  324.750000  330.299988  323.179993  329.820007  329.820007   \n",
       "9470  2023-10-10  330.959991  331.100006  327.670013  328.390015  328.390015   \n",
       "\n",
       "          Volume  \n",
       "0     1031788800  \n",
       "1      308160000  \n",
       "2      133171200  \n",
       "3       67766400  \n",
       "4       47894400  \n",
       "...          ...  \n",
       "9466    20720100  \n",
       "9467    16965600  \n",
       "9468    25645500  \n",
       "9469    19891200  \n",
       "9470    20536900  \n",
       "\n",
       "[9471 rows x 7 columns]"
      ]
     },
     "execution_count": 2,
     "metadata": {},
     "output_type": "execute_result"
    }
   ],
   "source": [
    "data = pd.read_csv(\"MSFT.csv\")\n",
    "data"
   ]
  },
  {
   "cell_type": "code",
   "execution_count": 3,
   "id": "5753b8a9-baed-413f-875d-7066106fa367",
   "metadata": {},
   "outputs": [
    {
     "data": {
      "text/html": [
       "<div>\n",
       "<style scoped>\n",
       "    .dataframe tbody tr th:only-of-type {\n",
       "        vertical-align: middle;\n",
       "    }\n",
       "\n",
       "    .dataframe tbody tr th {\n",
       "        vertical-align: top;\n",
       "    }\n",
       "\n",
       "    .dataframe thead th {\n",
       "        text-align: right;\n",
       "    }\n",
       "</style>\n",
       "<table border=\"1\" class=\"dataframe\">\n",
       "  <thead>\n",
       "    <tr style=\"text-align: right;\">\n",
       "      <th></th>\n",
       "      <th>Open</th>\n",
       "      <th>High</th>\n",
       "      <th>Low</th>\n",
       "      <th>Adj Close</th>\n",
       "      <th>RSI</th>\n",
       "      <th>EMAF</th>\n",
       "      <th>EMAM</th>\n",
       "      <th>EMAS</th>\n",
       "      <th>TargetNextClose</th>\n",
       "    </tr>\n",
       "  </thead>\n",
       "  <tbody>\n",
       "    <tr>\n",
       "      <th>0</th>\n",
       "      <td>0.115451</td>\n",
       "      <td>0.117188</td>\n",
       "      <td>0.115451</td>\n",
       "      <td>0.072260</td>\n",
       "      <td>66.049344</td>\n",
       "      <td>0.106115</td>\n",
       "      <td>0.104222</td>\n",
       "      <td>0.104508</td>\n",
       "      <td>0.075496</td>\n",
       "    </tr>\n",
       "    <tr>\n",
       "      <th>1</th>\n",
       "      <td>0.116319</td>\n",
       "      <td>0.122396</td>\n",
       "      <td>0.116319</td>\n",
       "      <td>0.075496</td>\n",
       "      <td>70.634112</td>\n",
       "      <td>0.107300</td>\n",
       "      <td>0.104564</td>\n",
       "      <td>0.104734</td>\n",
       "      <td>0.075496</td>\n",
       "    </tr>\n",
       "    <tr>\n",
       "      <th>2</th>\n",
       "      <td>0.121528</td>\n",
       "      <td>0.122396</td>\n",
       "      <td>0.120660</td>\n",
       "      <td>0.075496</td>\n",
       "      <td>70.634112</td>\n",
       "      <td>0.108395</td>\n",
       "      <td>0.104900</td>\n",
       "      <td>0.104956</td>\n",
       "      <td>0.077653</td>\n",
       "    </tr>\n",
       "    <tr>\n",
       "      <th>3</th>\n",
       "      <td>0.121528</td>\n",
       "      <td>0.125868</td>\n",
       "      <td>0.121528</td>\n",
       "      <td>0.077653</td>\n",
       "      <td>73.384280</td>\n",
       "      <td>0.109672</td>\n",
       "      <td>0.105298</td>\n",
       "      <td>0.105221</td>\n",
       "      <td>0.078192</td>\n",
       "    </tr>\n",
       "    <tr>\n",
       "      <th>4</th>\n",
       "      <td>0.125000</td>\n",
       "      <td>0.127604</td>\n",
       "      <td>0.122396</td>\n",
       "      <td>0.078192</td>\n",
       "      <td>74.035605</td>\n",
       "      <td>0.110918</td>\n",
       "      <td>0.105705</td>\n",
       "      <td>0.105495</td>\n",
       "      <td>0.081427</td>\n",
       "    </tr>\n",
       "    <tr>\n",
       "      <th>...</th>\n",
       "      <td>...</td>\n",
       "      <td>...</td>\n",
       "      <td>...</td>\n",
       "      <td>...</td>\n",
       "      <td>...</td>\n",
       "      <td>...</td>\n",
       "      <td>...</td>\n",
       "      <td>...</td>\n",
       "      <td>...</td>\n",
       "    </tr>\n",
       "    <tr>\n",
       "      <th>9316</th>\n",
       "      <td>320.829987</td>\n",
       "      <td>321.390015</td>\n",
       "      <td>311.209991</td>\n",
       "      <td>313.390015</td>\n",
       "      <td>39.934412</td>\n",
       "      <td>322.535459</td>\n",
       "      <td>320.453505</td>\n",
       "      <td>312.601295</td>\n",
       "      <td>318.959991</td>\n",
       "    </tr>\n",
       "    <tr>\n",
       "      <th>9317</th>\n",
       "      <td>314.029999</td>\n",
       "      <td>320.040009</td>\n",
       "      <td>314.000000</td>\n",
       "      <td>318.959991</td>\n",
       "      <td>46.069137</td>\n",
       "      <td>322.260423</td>\n",
       "      <td>320.423931</td>\n",
       "      <td>312.685516</td>\n",
       "      <td>319.359985</td>\n",
       "    </tr>\n",
       "    <tr>\n",
       "      <th>9318</th>\n",
       "      <td>319.089996</td>\n",
       "      <td>319.980011</td>\n",
       "      <td>314.899994</td>\n",
       "      <td>319.359985</td>\n",
       "      <td>46.489641</td>\n",
       "      <td>322.037312</td>\n",
       "      <td>320.402862</td>\n",
       "      <td>312.773920</td>\n",
       "      <td>327.260010</td>\n",
       "    </tr>\n",
       "    <tr>\n",
       "      <th>9319</th>\n",
       "      <td>316.549988</td>\n",
       "      <td>329.190002</td>\n",
       "      <td>316.299988</td>\n",
       "      <td>327.260010</td>\n",
       "      <td>54.068175</td>\n",
       "      <td>322.439058</td>\n",
       "      <td>320.538647</td>\n",
       "      <td>312.965789</td>\n",
       "      <td>329.820007</td>\n",
       "    </tr>\n",
       "    <tr>\n",
       "      <th>9320</th>\n",
       "      <td>324.750000</td>\n",
       "      <td>330.299988</td>\n",
       "      <td>323.179993</td>\n",
       "      <td>329.820007</td>\n",
       "      <td>56.220899</td>\n",
       "      <td>323.006824</td>\n",
       "      <td>320.722437</td>\n",
       "      <td>313.189023</td>\n",
       "      <td>328.390015</td>\n",
       "    </tr>\n",
       "  </tbody>\n",
       "</table>\n",
       "<p>9321 rows × 9 columns</p>\n",
       "</div>"
      ],
      "text/plain": [
       "            Open        High         Low   Adj Close        RSI        EMAF  \\\n",
       "0       0.115451    0.117188    0.115451    0.072260  66.049344    0.106115   \n",
       "1       0.116319    0.122396    0.116319    0.075496  70.634112    0.107300   \n",
       "2       0.121528    0.122396    0.120660    0.075496  70.634112    0.108395   \n",
       "3       0.121528    0.125868    0.121528    0.077653  73.384280    0.109672   \n",
       "4       0.125000    0.127604    0.122396    0.078192  74.035605    0.110918   \n",
       "...          ...         ...         ...         ...        ...         ...   \n",
       "9316  320.829987  321.390015  311.209991  313.390015  39.934412  322.535459   \n",
       "9317  314.029999  320.040009  314.000000  318.959991  46.069137  322.260423   \n",
       "9318  319.089996  319.980011  314.899994  319.359985  46.489641  322.037312   \n",
       "9319  316.549988  329.190002  316.299988  327.260010  54.068175  322.439058   \n",
       "9320  324.750000  330.299988  323.179993  329.820007  56.220899  323.006824   \n",
       "\n",
       "            EMAM        EMAS  TargetNextClose  \n",
       "0       0.104222    0.104508         0.075496  \n",
       "1       0.104564    0.104734         0.075496  \n",
       "2       0.104900    0.104956         0.077653  \n",
       "3       0.105298    0.105221         0.078192  \n",
       "4       0.105705    0.105495         0.081427  \n",
       "...          ...         ...              ...  \n",
       "9316  320.453505  312.601295       318.959991  \n",
       "9317  320.423931  312.685516       319.359985  \n",
       "9318  320.402862  312.773920       327.260010  \n",
       "9319  320.538647  312.965789       329.820007  \n",
       "9320  320.722437  313.189023       328.390015  \n",
       "\n",
       "[9321 rows x 9 columns]"
      ]
     },
     "execution_count": 3,
     "metadata": {},
     "output_type": "execute_result"
    }
   ],
   "source": [
    "data[\"RSI\"]=ta.rsi(data.Close, length=15)\n",
    "data[\"EMAF\"]=ta.ema(data.Close, length=25)\n",
    "data[\"EMAM\"]=ta.ema(data.Close, length=100)\n",
    "data[\"EMAS\"]=ta.ema(data.Close, length=150)\n",
    "\n",
    "data[\"TargetNextClose\"] = data[\"Adj Close\"].shift(-1)\n",
    "data.dropna(inplace=True)\n",
    "data.reset_index(inplace=True)\n",
    "data.drop([\"Volume\", \"Close\", \"Date\", \"index\"], axis=1, inplace=True)\n",
    "data"
   ]
  },
  {
   "cell_type": "code",
   "execution_count": 4,
   "id": "a2f8ce2a-6cc2-47d3-9636-81731f42fad7",
   "metadata": {},
   "outputs": [
    {
     "name": "stdout",
     "output_type": "stream",
     "text": [
      "[[0.00000000e+00 0.00000000e+00 0.00000000e+00 ... 0.00000000e+00\n",
      "  0.00000000e+00 0.00000000e+00]\n",
      " [2.40021315e-06 1.42037857e-05 2.46363757e-06 ... 1.06676815e-06\n",
      "  7.20025344e-07 0.00000000e+00]\n",
      " [1.68042573e-05 1.42037857e-05 1.47846637e-05 ... 2.11241217e-06\n",
      "  1.43051393e-06 6.01413660e-06]\n",
      " ...\n",
      " [8.82035596e-01 8.72362327e-01 8.93450491e-01 ... 9.97028391e-01\n",
      "  9.98674149e-01 9.12254224e-01]\n",
      " [8.75011909e-01 8.97480748e-01 8.97424083e-01 ... 9.97451064e-01\n",
      "  9.99286983e-01 9.19391995e-01]\n",
      " [8.97686767e-01 9.00508015e-01 9.16951547e-01 ... 9.98023165e-01\n",
      "  1.00000000e+00 9.15404898e-01]]\n"
     ]
    }
   ],
   "source": [
    "from sklearn.preprocessing import MinMaxScaler # as using NN feed model with between 1 or 0\n",
    "sc = MinMaxScaler(feature_range=(0,1))\n",
    "data_scaled = sc.fit_transform(data)\n",
    "print(data_scaled)"
   ]
  },
  {
   "cell_type": "code",
   "execution_count": 5,
   "id": "52d40576-7bc0-4c85-8cdc-216a70671e10",
   "metadata": {},
   "outputs": [],
   "source": [
    "X = []\n",
    "\n",
    "backtest = 5\n",
    "for j in range(8): # number of rows of inputs\n",
    "    X.append([])\n",
    "    for i in range(backtest, data_scaled.shape[0]):#backcandles+2\n",
    "        X[j].append(data_scaled[i-backtest:i, j])\n",
    "\n",
    "#move axis from 0 to position 2\n",
    "X=np.moveaxis(X, [0], [2])"
   ]
  },
  {
   "cell_type": "code",
   "execution_count": 6,
   "id": "bb34567c-d161-4399-92bc-fd41890d5b59",
   "metadata": {},
   "outputs": [
    {
     "data": {
      "text/plain": [
       "(9316, 5, 8)"
      ]
     },
     "execution_count": 6,
     "metadata": {},
     "output_type": "execute_result"
    }
   ],
   "source": [
    "X, y = np.array(X), np.array(data_scaled[backtest:,-1])\n",
    "y = np.reshape(y,(len(y),1))\n",
    "X.shape #9316 rows of 5 days of 8 inputs"
   ]
  },
  {
   "cell_type": "code",
   "execution_count": 7,
   "id": "822703a3-7549-4a17-8e5f-24029e6db06a",
   "metadata": {},
   "outputs": [],
   "source": [
    "q_80 = round(int(X.shape[0]) * 0.8)\n",
    "q_90 = round(int(X.shape[0]) * 0.9)\n",
    "\n",
    "X_train, y_train = X[:q_80], y[:q_80]\n",
    "X_val, y_val = X[q_80:q_90], y[q_80:q_90]\n",
    "X_test, y_test = X[q_90:], y[q_90:]"
   ]
  },
  {
   "cell_type": "code",
   "execution_count": 8,
   "id": "52468509-9c52-40b8-8379-fe3a9b8c8176",
   "metadata": {
    "scrolled": true
   },
   "outputs": [
    {
     "name": "stdout",
     "output_type": "stream",
     "text": [
      "Epoch 1/20\n",
      "232/233 [============================>.] - ETA: 0s - loss: 8.5059e-05INFO:tensorflow:Assets written to: model4\\assets\n"
     ]
    },
    {
     "name": "stderr",
     "output_type": "stream",
     "text": [
      "INFO:tensorflow:Assets written to: model4\\assets\n"
     ]
    },
    {
     "name": "stdout",
     "output_type": "stream",
     "text": [
      "233/233 [==============================] - 6s 18ms/step - loss: 8.4788e-05 - val_loss: 1.9409e-04\n",
      "Epoch 2/20\n",
      "233/233 [==============================] - 1s 5ms/step - loss: 1.3336e-05 - val_loss: 5.7011e-04\n",
      "Epoch 3/20\n",
      "233/233 [==============================] - 1s 5ms/step - loss: 5.1251e-06 - val_loss: 2.4122e-04\n",
      "Epoch 4/20\n",
      "226/233 [============================>.] - ETA: 0s - loss: 4.7039e-06INFO:tensorflow:Assets written to: model4\\assets\n"
     ]
    },
    {
     "name": "stderr",
     "output_type": "stream",
     "text": [
      "INFO:tensorflow:Assets written to: model4\\assets\n"
     ]
    },
    {
     "name": "stdout",
     "output_type": "stream",
     "text": [
      "233/233 [==============================] - 3s 15ms/step - loss: 4.7404e-06 - val_loss: 1.5801e-04\n",
      "Epoch 5/20\n",
      "231/233 [============================>.] - ETA: 0s - loss: 4.9225e-06INFO:tensorflow:Assets written to: model4\\assets\n"
     ]
    },
    {
     "name": "stderr",
     "output_type": "stream",
     "text": [
      "INFO:tensorflow:Assets written to: model4\\assets\n"
     ]
    },
    {
     "name": "stdout",
     "output_type": "stream",
     "text": [
      "233/233 [==============================] - 4s 18ms/step - loss: 4.9204e-06 - val_loss: 1.3730e-04\n",
      "Epoch 6/20\n",
      "222/233 [===========================>..] - ETA: 0s - loss: 4.5268e-06INFO:tensorflow:Assets written to: model4\\assets\n"
     ]
    },
    {
     "name": "stderr",
     "output_type": "stream",
     "text": [
      "INFO:tensorflow:Assets written to: model4\\assets\n"
     ]
    },
    {
     "name": "stdout",
     "output_type": "stream",
     "text": [
      "233/233 [==============================] - 4s 15ms/step - loss: 4.5554e-06 - val_loss: 2.9741e-05\n",
      "Epoch 7/20\n",
      "231/233 [============================>.] - ETA: 0s - loss: 4.1983e-06INFO:tensorflow:Assets written to: model4\\assets\n"
     ]
    },
    {
     "name": "stderr",
     "output_type": "stream",
     "text": [
      "INFO:tensorflow:Assets written to: model4\\assets\n"
     ]
    },
    {
     "name": "stdout",
     "output_type": "stream",
     "text": [
      "233/233 [==============================] - 3s 14ms/step - loss: 4.2228e-06 - val_loss: 2.6446e-05\n",
      "Epoch 8/20\n",
      "233/233 [==============================] - 1s 6ms/step - loss: 3.8227e-06 - val_loss: 9.1901e-05\n",
      "Epoch 9/20\n",
      "231/233 [============================>.] - ETA: 0s - loss: 4.5125e-06INFO:tensorflow:Assets written to: model4\\assets\n"
     ]
    },
    {
     "name": "stderr",
     "output_type": "stream",
     "text": [
      "INFO:tensorflow:Assets written to: model4\\assets\n"
     ]
    },
    {
     "name": "stdout",
     "output_type": "stream",
     "text": [
      "233/233 [==============================] - 3s 14ms/step - loss: 4.5120e-06 - val_loss: 2.2852e-05\n",
      "Epoch 10/20\n",
      "233/233 [==============================] - 1s 5ms/step - loss: 3.9906e-06 - val_loss: 4.6836e-05\n",
      "Epoch 11/20\n",
      "228/233 [============================>.] - ETA: 0s - loss: 4.7633e-06INFO:tensorflow:Assets written to: model4\\assets\n"
     ]
    },
    {
     "name": "stderr",
     "output_type": "stream",
     "text": [
      "INFO:tensorflow:Assets written to: model4\\assets\n"
     ]
    },
    {
     "name": "stdout",
     "output_type": "stream",
     "text": [
      "233/233 [==============================] - 3s 15ms/step - loss: 4.7617e-06 - val_loss: 2.2526e-05\n",
      "Epoch 12/20\n",
      "233/233 [==============================] - 1s 5ms/step - loss: 3.5153e-06 - val_loss: 3.3202e-05\n",
      "Epoch 13/20\n",
      "233/233 [==============================] - 1s 5ms/step - loss: 4.3139e-06 - val_loss: 5.0555e-05\n",
      "Epoch 14/20\n",
      "228/233 [============================>.] - ETA: 0s - loss: 3.3265e-06INFO:tensorflow:Assets written to: model4\\assets\n"
     ]
    },
    {
     "name": "stderr",
     "output_type": "stream",
     "text": [
      "INFO:tensorflow:Assets written to: model4\\assets\n"
     ]
    },
    {
     "name": "stdout",
     "output_type": "stream",
     "text": [
      "233/233 [==============================] - 3s 14ms/step - loss: 3.3654e-06 - val_loss: 2.0893e-05\n",
      "Epoch 15/20\n",
      "233/233 [==============================] - 1s 5ms/step - loss: 4.0072e-06 - val_loss: 2.8780e-05\n",
      "Epoch 16/20\n",
      "233/233 [==============================] - 1s 5ms/step - loss: 4.0161e-06 - val_loss: 2.1693e-05\n",
      "Epoch 17/20\n",
      "233/233 [==============================] - 1s 5ms/step - loss: 3.5816e-06 - val_loss: 2.7620e-05\n",
      "Epoch 18/20\n",
      "227/233 [============================>.] - ETA: 0s - loss: 3.6222e-06INFO:tensorflow:Assets written to: model4\\assets\n"
     ]
    },
    {
     "name": "stderr",
     "output_type": "stream",
     "text": [
      "INFO:tensorflow:Assets written to: model4\\assets\n"
     ]
    },
    {
     "name": "stdout",
     "output_type": "stream",
     "text": [
      "233/233 [==============================] - 3s 14ms/step - loss: 3.6912e-06 - val_loss: 2.0780e-05\n",
      "Epoch 19/20\n",
      "233/233 [==============================] - 1s 5ms/step - loss: 3.7998e-06 - val_loss: 2.7336e-05\n",
      "Epoch 20/20\n",
      "233/233 [==============================] - 1s 6ms/step - loss: 3.2323e-06 - val_loss: 2.6788e-05\n"
     ]
    },
    {
     "data": {
      "text/plain": [
       "<keras.src.callbacks.History at 0x27784096490>"
      ]
     },
     "execution_count": 8,
     "metadata": {},
     "output_type": "execute_result"
    }
   ],
   "source": [
    "import tensorflow as tf\n",
    "import keras\n",
    "from keras.optimizers import Adam\n",
    "from keras.callbacks import History\n",
    "from keras.models import Model\n",
    "from keras import layers\n",
    "from keras.models import Sequential\n",
    "from tensorflow.keras.callbacks import ModelCheckpoint\n",
    "\n",
    "cp = ModelCheckpoint(\"model4/\", save_best_only=True)\n",
    "model = Sequential([layers.Input((backtest, 8), name=\"input\"),\n",
    "                    layers.LSTM(150),\n",
    "                    layers.Dense(1, name = \"Dense_layer\"),\n",
    "                    layers.Activation(\"linear\", name = \"output\")])\n",
    "\n",
    "model.compile(optimizer=Adam(), loss='mse')\n",
    "model.fit(X_train, y_train, validation_data=(X_val, y_val), epochs=20, callbacks = [cp])"
   ]
  },
  {
   "cell_type": "code",
   "execution_count": 9,
   "id": "fc5a2768-99e6-4b86-93f3-663278c8397d",
   "metadata": {},
   "outputs": [
    {
     "name": "stdout",
     "output_type": "stream",
     "text": [
      "233/233 [==============================] - 1s 2ms/step\n",
      "30/30 [==============================] - 0s 2ms/step\n",
      "30/30 [==============================] - 0s 2ms/step\n"
     ]
    }
   ],
   "source": [
    "train_predictions = model.predict(X_train).flatten()\n",
    "val_predictions = model.predict(X_val).flatten()\n",
    "test_predictions = model.predict(X_test).flatten()"
   ]
  },
  {
   "cell_type": "code",
   "execution_count": 10,
   "id": "4b969c8a-2278-4646-a180-ff2897dce699",
   "metadata": {},
   "outputs": [
    {
     "data": {
      "image/png": "[encoded data removed]",
      "text/plain": [
       "<Figure size 640x480 with 1 Axes>"
      ]
     },
     "metadata": {},
     "output_type": "display_data"
    }
   ],
   "source": [
    "plt.plot(y_test, color = \"black\", label = \"Test\")\n",
    "plt.plot(test_predictions, color = \"green\", label = \"Predictions\")\n",
    "plt.legend()\n",
    "plt.show()"
   ]
  },
  {
   "cell_type": "code",
   "execution_count": 11,
   "id": "055b9803-131e-48d5-9ea7-1fd8404a1182",
   "metadata": {},
   "outputs": [],
   "source": [
    "from keras.models import load_model\n",
    "\n",
    "filename = \"model4\"\n",
    "model = load_model(filename)"
   ]
  },
  {
   "cell_type": "code",
   "execution_count": null,
   "id": "67f7ffca-1c66-4d94-a9c4-136fe6dca59a",
   "metadata": {},
   "outputs": [],
   "source": []
  },
  {
   "cell_type": "code",
   "execution_count": null,
   "id": "5170be56-06bd-427f-82e5-01d519d60e56",
   "metadata": {},
   "outputs": [],
   "source": []
  }
 ],
 "metadata": {
  "kernelspec": {
   "display_name": "Python 3",
   "language": "python",
   "name": "python3"
  },
  "language_info": {
   "codemirror_mode": {
    "name": "ipython",
    "version": 3
   },
   "file_extension": ".py",
   "mimetype": "text/x-python",
   "name": "python",
   "nbconvert_exporter": "python",
   "pygments_lexer": "ipython3",
   "version": "3.11.5"
  }
 },
 "nbformat": 4,
 "nbformat_minor": 5
}
