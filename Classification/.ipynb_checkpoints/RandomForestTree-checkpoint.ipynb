{
 "cells": [
  {
   "cell_type": "code",
   "execution_count": 1,
   "id": "9b9a9bc2-3e51-4d51-9b2c-623b43ad706f",
   "metadata": {},
   "outputs": [],
   "source": [
    "import yfinance as yf\n",
    "import pandas as pd\n",
    "import pandas_ta as ta\n",
    "import numpy as np\n",
    "import matplotlib.pyplot as plt\n",
    "from sklearn.metrics import precision_score\n",
    "from sklearn.ensemble import RandomForestClassifier\n"
   ]
  },
  {
   "cell_type": "code",
   "execution_count": 4,
   "id": "e729ad1c-3928-45f9-8e6f-8c4e32d3c3c7",
   "metadata": {},
   "outputs": [
    {
     "data": {
      "text/html": [
       "<div>\n",
       "<style scoped>\n",
       "    .dataframe tbody tr th:only-of-type {\n",
       "        vertical-align: middle;\n",
       "    }\n",
       "\n",
       "    .dataframe tbody tr th {\n",
       "        vertical-align: top;\n",
       "    }\n",
       "\n",
       "    .dataframe thead th {\n",
       "        text-align: right;\n",
       "    }\n",
       "</style>\n",
       "<table border=\"1\" class=\"dataframe\">\n",
       "  <thead>\n",
       "    <tr style=\"text-align: right;\">\n",
       "      <th></th>\n",
       "      <th>log_ret</th>\n",
       "      <th>RSILR</th>\n",
       "      <th>EMAFLR</th>\n",
       "      <th>EMAMLR</th>\n",
       "      <th>EMASLR</th>\n",
       "      <th>log_ret_next</th>\n",
       "      <th>Target</th>\n",
       "    </tr>\n",
       "  </thead>\n",
       "  <tbody>\n",
       "    <tr>\n",
       "      <th>0</th>\n",
       "      <td>0.011064</td>\n",
       "      <td>50.708465</td>\n",
       "      <td>0.006683</td>\n",
       "      <td>0.003163</td>\n",
       "      <td>0.001564</td>\n",
       "      <td>0.026539</td>\n",
       "      <td>1</td>\n",
       "    </tr>\n",
       "    <tr>\n",
       "      <th>1</th>\n",
       "      <td>0.026539</td>\n",
       "      <td>52.857386</td>\n",
       "      <td>0.008211</td>\n",
       "      <td>0.003626</td>\n",
       "      <td>0.001894</td>\n",
       "      <td>-0.009570</td>\n",
       "      <td>0</td>\n",
       "    </tr>\n",
       "    <tr>\n",
       "      <th>2</th>\n",
       "      <td>-0.009570</td>\n",
       "      <td>47.662768</td>\n",
       "      <td>0.006843</td>\n",
       "      <td>0.003365</td>\n",
       "      <td>0.001743</td>\n",
       "      <td>0.007186</td>\n",
       "      <td>1</td>\n",
       "    </tr>\n",
       "    <tr>\n",
       "      <th>3</th>\n",
       "      <td>0.007186</td>\n",
       "      <td>50.100881</td>\n",
       "      <td>0.006869</td>\n",
       "      <td>0.003441</td>\n",
       "      <td>0.001815</td>\n",
       "      <td>0.025914</td>\n",
       "      <td>1</td>\n",
       "    </tr>\n",
       "    <tr>\n",
       "      <th>4</th>\n",
       "      <td>0.025914</td>\n",
       "      <td>52.737448</td>\n",
       "      <td>0.008334</td>\n",
       "      <td>0.003886</td>\n",
       "      <td>0.002134</td>\n",
       "      <td>-0.014052</td>\n",
       "      <td>0</td>\n",
       "    </tr>\n",
       "    <tr>\n",
       "      <th>...</th>\n",
       "      <td>...</td>\n",
       "      <td>...</td>\n",
       "      <td>...</td>\n",
       "      <td>...</td>\n",
       "      <td>...</td>\n",
       "      <td>...</td>\n",
       "      <td>...</td>\n",
       "    </tr>\n",
       "    <tr>\n",
       "      <th>7400</th>\n",
       "      <td>-0.010412</td>\n",
       "      <td>47.653414</td>\n",
       "      <td>0.000752</td>\n",
       "      <td>0.000469</td>\n",
       "      <td>0.000668</td>\n",
       "      <td>0.014871</td>\n",
       "      <td>1</td>\n",
       "    </tr>\n",
       "    <tr>\n",
       "      <th>7401</th>\n",
       "      <td>0.014871</td>\n",
       "      <td>52.737002</td>\n",
       "      <td>0.001838</td>\n",
       "      <td>0.000754</td>\n",
       "      <td>0.000856</td>\n",
       "      <td>-0.001745</td>\n",
       "      <td>0</td>\n",
       "    </tr>\n",
       "    <tr>\n",
       "      <th>7402</th>\n",
       "      <td>-0.001745</td>\n",
       "      <td>49.361470</td>\n",
       "      <td>0.001563</td>\n",
       "      <td>0.000704</td>\n",
       "      <td>0.000822</td>\n",
       "      <td>-0.005890</td>\n",
       "      <td>0</td>\n",
       "    </tr>\n",
       "    <tr>\n",
       "      <th>7403</th>\n",
       "      <td>-0.005890</td>\n",
       "      <td>48.531299</td>\n",
       "      <td>0.000989</td>\n",
       "      <td>0.000574</td>\n",
       "      <td>0.000733</td>\n",
       "      <td>0.003659</td>\n",
       "      <td>1</td>\n",
       "    </tr>\n",
       "    <tr>\n",
       "      <th>7404</th>\n",
       "      <td>0.003659</td>\n",
       "      <td>50.582835</td>\n",
       "      <td>0.001195</td>\n",
       "      <td>0.000635</td>\n",
       "      <td>0.000772</td>\n",
       "      <td>-0.005235</td>\n",
       "      <td>0</td>\n",
       "    </tr>\n",
       "  </tbody>\n",
       "</table>\n",
       "<p>7405 rows × 7 columns</p>\n",
       "</div>"
      ],
      "text/plain": [
       "       log_ret      RSILR    EMAFLR    EMAMLR    EMASLR  log_ret_next  Target\n",
       "0     0.011064  50.708465  0.006683  0.003163  0.001564      0.026539       1\n",
       "1     0.026539  52.857386  0.008211  0.003626  0.001894     -0.009570       0\n",
       "2    -0.009570  47.662768  0.006843  0.003365  0.001743      0.007186       1\n",
       "3     0.007186  50.100881  0.006869  0.003441  0.001815      0.025914       1\n",
       "4     0.025914  52.737448  0.008334  0.003886  0.002134     -0.014052       0\n",
       "...        ...        ...       ...       ...       ...           ...     ...\n",
       "7400 -0.010412  47.653414  0.000752  0.000469  0.000668      0.014871       1\n",
       "7401  0.014871  52.737002  0.001838  0.000754  0.000856     -0.001745       0\n",
       "7402 -0.001745  49.361470  0.001563  0.000704  0.000822     -0.005890       0\n",
       "7403 -0.005890  48.531299  0.000989  0.000574  0.000733      0.003659       1\n",
       "7404  0.003659  50.582835  0.001195  0.000635  0.000772     -0.005235       0\n",
       "\n",
       "[7405 rows x 7 columns]"
      ]
     },
     "execution_count": 4,
     "metadata": {},
     "output_type": "execute_result"
    }
   ],
   "source": [
    "msft = yf.Ticker(\"MSFT\")\n",
    "data = msft.history(period=\"30Y\")\n",
    "data[\"log_ret\"] = np.log(data.Close) - np.log(data.Close.shift(1))\n",
    "data[\"RSILR\"] =ta.rsi(data.log_ret, length=15)\n",
    "data[\"EMAFLR\"]=ta.ema(data.log_ret, length=25)\n",
    "data[\"EMAMLR\"]=ta.ema(data.log_ret, length=100)\n",
    "data[\"EMASLR\"]=ta.ema(data.log_ret, length=150)\n",
    "data[\"log_ret_next\"] = data[\"log_ret\"].shift(-1)\n",
    "data[\"Target\"] = (data[\"log_ret_next\"] > data[\"log_ret\"]).astype(int)\n",
    "data.dropna(inplace=True)\n",
    "data.reset_index(inplace=True)\n",
    "dates = data[\"Date\"]\n",
    "data.drop([\"Volume\", \"Close\", \"Date\", \"Open\", \"High\", \"Low\", \"Dividends\", \"Stock Splits\"], axis=1, inplace=True)\n",
    "data"
   ]
  },
  {
   "cell_type": "code",
   "execution_count": 5,
   "id": "fd94fe36-4089-4e32-bc3d-10c8b4b267d2",
   "metadata": {},
   "outputs": [],
   "source": [
    "predictors = [\"log_ret\", \"RSILR\", \"EMAFLR\", \"EMAMLR\", \"EMASLR\"]\n",
    "train = data.iloc[:-100]\n",
    "test = data.iloc[-100:]"
   ]
  },
  {
   "cell_type": "code",
   "execution_count": 23,
   "id": "72d2df6b-a948-4db2-88a8-69afe0e55ab2",
   "metadata": {},
   "outputs": [
    {
     "name": "stderr",
     "output_type": "stream",
     "text": [
      "\n",
      "KeyboardInterrupt\n",
      "\n"
     ]
    }
   ],
   "source": [
    "estimators = np.arange(25,250,25)\n",
    "train_accuracies = {}\n",
    "test_accuracies = {}\n",
    "for estimator in estimators:\n",
    "    model = RandomForestClassifier(n_estimators = estimator, min_samples_split = 100, random_state = 1)\n",
    "    model.fit(train[predictors], train[\"Target\"])\n",
    "    train_accuracies[estimator] = model.score(train[predictors], train[\"Target\"])\n",
    "    test_accuracies[estimator] = model.score(test[predictors], test[\"Target\"])"
   ]
  },
  {
   "cell_type": "code",
   "execution_count": 19,
   "id": "ac35945a-3be2-4911-89d8-66390179f9e7",
   "metadata": {},
   "outputs": [
    {
     "data": {
      "text/plain": [
       "Text(0, 0.5, 'Accuracy')"
      ]
     },
     "execution_count": 19,
     "metadata": {},
     "output_type": "execute_result"
    },
    {
     "data": {
      "image/png": "[encoded data removed]",
      "text/plain": [
       "<Figure size 640x480 with 1 Axes>"
      ]
     },
     "metadata": {},
     "output_type": "display_data"
    }
   ],
   "source": [
    "plt.plot(estimators, train_accuracies.values(), label=\"Training Accuracy\")\n",
    "plt.plot(estimators, test_accuracies.values(), label=\"Testing Accuracy\")\n",
    "plt.legend()\n",
    "plt.xlabel(\"Number of estimators\")\n",
    "plt.ylabel(\"Accuracy\")"
   ]
  },
  {
   "cell_type": "code",
   "execution_count": 21,
   "id": "72972b20-4f22-4dba-b6bb-215a8cec4fdd",
   "metadata": {},
   "outputs": [],
   "source": [
    "samplesplits = np.arange(25,250,25)\n",
    "train_accuracies = {}\n",
    "test_accuracies = {}\n",
    "for samplesplit in samplesplits:\n",
    "    model = RandomForestClassifier(n_estimators = 25, min_samples_split = samplesplit, random_state = 1)\n",
    "    model.fit(train[predictors], train[\"Target\"])\n",
    "    train_accuracies[samplesplit] = model.score(train[predictors], train[\"Target\"])\n",
    "    test_accuracies[samplesplit] = model.score(test[predictors], test[\"Target\"])"
   ]
  },
  {
   "cell_type": "code",
   "execution_count": 22,
   "id": "f4cfc58a-73ce-4ac5-b978-85bfcfcf0305",
   "metadata": {},
   "outputs": [
    {
     "data": {
      "text/plain": [
       "Text(0, 0.5, 'Accuracy')"
      ]
     },
     "execution_count": 22,
     "metadata": {},
     "output_type": "execute_result"
    },
    {
     "data": {
      "image/png": "[encoded data removed]",
      "text/plain": [
       "<Figure size 640x480 with 1 Axes>"
      ]
     },
     "metadata": {},
     "output_type": "display_data"
    }
   ],
   "source": [
    "plt.plot(samplesplits, train_accuracies.values(), label=\"Training Accuracy\")\n",
    "plt.plot(samplesplits, test_accuracies.values(), label=\"Testing Accuracy\")\n",
    "plt.legend()\n",
    "plt.xlabel(\"Min Sample Split\")\n",
    "plt.ylabel(\"Accuracy\")"
   ]
  },
  {
   "cell_type": "code",
   "execution_count": 24,
   "id": "a1b513e8-9c17-4c53-9e0c-90367ded087d",
   "metadata": {},
   "outputs": [
    {
     "data": {
      "text/html": [
       "<style>#sk-container-id-1 {color: black;}#sk-container-id-1 pre{padding: 0;}#sk-container-id-1 div.sk-toggleable {background-color: white;}#sk-container-id-1 label.sk-toggleable__label {cursor: pointer;display: block;width: 100%;margin-bottom: 0;padding: 0.3em;box-sizing: border-box;text-align: center;}#sk-container-id-1 label.sk-toggleable__label-arrow:before {content: \"▸\";float: left;margin-right: 0.25em;color: #696969;}#sk-container-id-1 label.sk-toggleable__label-arrow:hover:before {color: black;}#sk-container-id-1 div.sk-estimator:hover label.sk-toggleable__label-arrow:before {color: black;}#sk-container-id-1 div.sk-toggleable__content {max-height: 0;max-width: 0;overflow: hidden;text-align: left;background-color: #f0f8ff;}#sk-container-id-1 div.sk-toggleable__content pre {margin: 0.2em;color: black;border-radius: 0.25em;background-color: #f0f8ff;}#sk-container-id-1 input.sk-toggleable__control:checked~div.sk-toggleable__content {max-height: 200px;max-width: 100%;overflow: auto;}#sk-container-id-1 input.sk-toggleable__control:checked~label.sk-toggleable__label-arrow:before {content: \"▾\";}#sk-container-id-1 div.sk-estimator input.sk-toggleable__control:checked~label.sk-toggleable__label {background-color: #d4ebff;}#sk-container-id-1 div.sk-label input.sk-toggleable__control:checked~label.sk-toggleable__label {background-color: #d4ebff;}#sk-container-id-1 input.sk-hidden--visually {border: 0;clip: rect(1px 1px 1px 1px);clip: rect(1px, 1px, 1px, 1px);height: 1px;margin: -1px;overflow: hidden;padding: 0;position: absolute;width: 1px;}#sk-container-id-1 div.sk-estimator {font-family: monospace;background-color: #f0f8ff;border: 1px dotted black;border-radius: 0.25em;box-sizing: border-box;margin-bottom: 0.5em;}#sk-container-id-1 div.sk-estimator:hover {background-color: #d4ebff;}#sk-container-id-1 div.sk-parallel-item::after {content: \"\";width: 100%;border-bottom: 1px solid gray;flex-grow: 1;}#sk-container-id-1 div.sk-label:hover label.sk-toggleable__label {background-color: #d4ebff;}#sk-container-id-1 div.sk-serial::before {content: \"\";position: absolute;border-left: 1px solid gray;box-sizing: border-box;top: 0;bottom: 0;left: 50%;z-index: 0;}#sk-container-id-1 div.sk-serial {display: flex;flex-direction: column;align-items: center;background-color: white;padding-right: 0.2em;padding-left: 0.2em;position: relative;}#sk-container-id-1 div.sk-item {position: relative;z-index: 1;}#sk-container-id-1 div.sk-parallel {display: flex;align-items: stretch;justify-content: center;background-color: white;position: relative;}#sk-container-id-1 div.sk-item::before, #sk-container-id-1 div.sk-parallel-item::before {content: \"\";position: absolute;border-left: 1px solid gray;box-sizing: border-box;top: 0;bottom: 0;left: 50%;z-index: -1;}#sk-container-id-1 div.sk-parallel-item {display: flex;flex-direction: column;z-index: 1;position: relative;background-color: white;}#sk-container-id-1 div.sk-parallel-item:first-child::after {align-self: flex-end;width: 50%;}#sk-container-id-1 div.sk-parallel-item:last-child::after {align-self: flex-start;width: 50%;}#sk-container-id-1 div.sk-parallel-item:only-child::after {width: 0;}#sk-container-id-1 div.sk-dashed-wrapped {border: 1px dashed gray;margin: 0 0.4em 0.5em 0.4em;box-sizing: border-box;padding-bottom: 0.4em;background-color: white;}#sk-container-id-1 div.sk-label label {font-family: monospace;font-weight: bold;display: inline-block;line-height: 1.2em;}#sk-container-id-1 div.sk-label-container {text-align: center;}#sk-container-id-1 div.sk-container {/* jupyter's `normalize.less` sets `[hidden] { display: none; }` but bootstrap.min.css set `[hidden] { display: none !important; }` so we also need the `!important` here to be able to override the default hidden behavior on the sphinx rendered scikit-learn.org. See: https://github.com/scikit-learn/scikit-learn/issues/21755 */display: inline-block !important;position: relative;}#sk-container-id-1 div.sk-text-repr-fallback {display: none;}</style><div id=\"sk-container-id-1\" class=\"sk-top-container\"><div class=\"sk-text-repr-fallback\"><pre>RandomForestClassifier(min_samples_split=100, n_estimators=25, random_state=1)</pre><b>In a Jupyter environment, please rerun this cell to show the HTML representation or trust the notebook. <br />On GitHub, the HTML representation is unable to render, please try loading this page with nbviewer.org.</b></div><div class=\"sk-container\" hidden><div class=\"sk-item\"><div class=\"sk-estimator sk-toggleable\"><input class=\"sk-toggleable__control sk-hidden--visually\" id=\"sk-estimator-id-1\" type=\"checkbox\" checked><label for=\"sk-estimator-id-1\" class=\"sk-toggleable__label sk-toggleable__label-arrow\">RandomForestClassifier</label><div class=\"sk-toggleable__content\"><pre>RandomForestClassifier(min_samples_split=100, n_estimators=25, random_state=1)</pre></div></div></div></div></div>"
      ],
      "text/plain": [
       "RandomForestClassifier(min_samples_split=100, n_estimators=25, random_state=1)"
      ]
     },
     "execution_count": 24,
     "metadata": {},
     "output_type": "execute_result"
    }
   ],
   "source": [
    "model = RandomForestClassifier(n_estimators=25, min_samples_split=100, random_state=1)\n",
    "model.fit(train[predictors], train[\"Target\"])"
   ]
  },
  {
   "cell_type": "code",
   "execution_count": 25,
   "id": "b99a2c3a-4adb-47d1-8c6f-7bbb8350b5b9",
   "metadata": {},
   "outputs": [
    {
     "data": {
      "text/plain": [
       "0.7358490566037735"
      ]
     },
     "execution_count": 25,
     "metadata": {},
     "output_type": "execute_result"
    }
   ],
   "source": [
    "preds = model.predict(test[predictors])\n",
    "preds = pd.Series(preds, index=test.index)\n",
    "precision_score(test[\"Target\"], preds)"
   ]
  },
  {
   "cell_type": "code",
   "execution_count": 26,
   "id": "e15fb5bd-3a44-4b61-88a3-8001deb0ddef",
   "metadata": {},
   "outputs": [],
   "source": [
    "def predict(train, test, predictors, model):\n",
    "    model.fit(train[predictors], train[\"Target\"])\n",
    "    preds = model.predict_proba(test[predictors])[:,1]\n",
    "    preds[preds >=.6] = 1\n",
    "    preds[preds <.6] = 0\n",
    "    preds = pd.Series(preds, index=test.index, name=\"Predictions\")\n",
    "    combined = pd.concat([test[\"Target\"], preds], axis=1)\n",
    "    return combined\n",
    "\n",
    "def backtest(data, model, predictors, start=2500, step=250):\n",
    "    all_predictions = []\n",
    "\n",
    "    for i in range(start, data.shape[0], step):\n",
    "        train = data.iloc[0:i].copy()\n",
    "        test = data.iloc[i:(i+step)].copy()\n",
    "        predictions = predict(train, test, predictors, model)\n",
    "        all_predictions.append(predictions)\n",
    "    \n",
    "    return pd.concat(all_predictions)"
   ]
  },
  {
   "cell_type": "code",
   "execution_count": 29,
   "id": "868bacd6-c8d4-4d3d-a73a-d52db0650691",
   "metadata": {},
   "outputs": [
    {
     "data": {
      "text/plain": [
       "Predictions\n",
       "0.0    3028\n",
       "1.0    1877\n",
       "Name: count, dtype: int64"
      ]
     },
     "execution_count": 29,
     "metadata": {},
     "output_type": "execute_result"
    }
   ],
   "source": [
    "predictions = backtest(data, model, predictors)\n",
    "predictions[\"Predictions\"].value_counts()"
   ]
  },
  {
   "cell_type": "code",
   "execution_count": 30,
   "id": "5702c887-e291-409f-8df6-52f5822db85a",
   "metadata": {},
   "outputs": [
    {
     "data": {
      "text/plain": [
       "0.7906233351092168"
      ]
     },
     "execution_count": 30,
     "metadata": {},
     "output_type": "execute_result"
    }
   ],
   "source": [
    "precision_score(predictions[\"Target\"], predictions[\"Predictions\"])"
   ]
  },
  {
   "cell_type": "code",
   "execution_count": null,
   "id": "b04e316f-1b25-47ad-81a9-b0c327eed81c",
   "metadata": {},
   "outputs": [],
   "source": []
  },
  {
   "cell_type": "code",
   "execution_count": null,
   "id": "2bcdc9ee-68c7-450a-8c12-06796b4a4c57",
   "metadata": {},
   "outputs": [],
   "source": []
  },
  {
   "cell_type": "code",
   "execution_count": null,
   "id": "8883b2d0-83d5-4b64-91f7-9a71e60e8639",
   "metadata": {},
   "outputs": [],
   "source": []
  },
  {
   "cell_type": "code",
   "execution_count": null,
   "id": "ab9ea85b-0600-4553-abfc-1d460411729f",
   "metadata": {},
   "outputs": [],
   "source": []
  },
  {
   "cell_type": "code",
   "execution_count": null,
   "id": "8d5e8092-c220-4cbf-a5ed-04462c3c5682",
   "metadata": {},
   "outputs": [],
   "source": []
  }
 ],
 "metadata": {
  "kernelspec": {
   "display_name": "Python 3",
   "language": "python",
   "name": "python3"
  },
  "language_info": {
   "codemirror_mode": {
    "name": "ipython",
    "version": 3
   },
   "file_extension": ".py",
   "mimetype": "text/x-python",
   "name": "python",
   "nbconvert_exporter": "python",
   "pygments_lexer": "ipython3",
   "version": "3.11.5"
  }
 },
 "nbformat": 4,
 "nbformat_minor": 5
}
